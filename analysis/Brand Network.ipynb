{
 "cells": [
  {
   "cell_type": "code",
   "execution_count": 1,
   "metadata": {
    "collapsed": true
   },
   "outputs": [],
   "source": [
    "import numpy as np\n",
    "import pandas as pd\n",
    "import re\n",
    "import json\n",
    "from csv import reader"
   ]
  },
  {
   "cell_type": "code",
   "execution_count": 2,
   "metadata": {
    "collapsed": false
   },
   "outputs": [],
   "source": [
    "network = {'nodes':[],'links':[]}\n",
    "nodes = {}\n",
    "node_self = {}\n",
    "threshold = 9\n",
    "ifh = open('boarddesignerOtherwayBigger10.csv','r')\n",
    "first = True\n",
    "filereader = reader(ifh, delimiter=',', quotechar='\"')\n",
    "for row in filereader:\n",
    "    if first:\n",
    "        first = False\n",
    "        brands = row[1:]\n",
    "        continue\n",
    "    assert len(row) == len(brands) + 1\n",
    "    source = row[0]\n",
    "    for brand_idx in range(len(row)-1):\n",
    "        if source != brands[brand_idx]:\n",
    "            if float(row[brand_idx+1]) > threshold:\n",
    "                if source not in nodes:\n",
    "                    position = len(nodes)\n",
    "                    nodes[source] = position\n",
    "                    network['nodes'].append({'name':source})\n",
    "                if brands[brand_idx] not in nodes:\n",
    "                    position = len(nodes)\n",
    "                    nodes[brands[brand_idx]] = position\n",
    "                    network['nodes'].append({'name':brands[brand_idx]})\n",
    "                link = {'source':nodes[source],\n",
    "                        'target':nodes[brands[brand_idx]],\n",
    "                        'value':float(row[brand_idx+1])}\n",
    "#                 print source + \", \" + brands[brand_idx] + \": \" + row[brand_idx+1]\n",
    "                network['links'].append(link)\n",
    "        else:\n",
    "            node_self[source] = float(row[brand_idx+1])"
   ]
  },
  {
   "cell_type": "code",
   "execution_count": 3,
   "metadata": {
    "collapsed": false
   },
   "outputs": [],
   "source": [
    "for link in network['links']:\n",
    "    source = network['nodes'][link['source']]['name']\n",
    "    target = network['nodes'][link['target']]['name']\n",
    "#     print source\n",
    "    source_value = node_self[source]\n",
    "    target_value = node_self[target]\n",
    "    link['jaccard'] = link['value']/(source_value + target_value - link['value'])"
   ]
  },
  {
   "cell_type": "code",
   "execution_count": null,
   "metadata": {
    "collapsed": false
   },
   "outputs": [],
   "source": [
    "with open('brand_network.json','w') as ofh:\n",
    "    json.dump(network, ofh)"
   ]
  },
  {
   "cell_type": "code",
   "execution_count": null,
   "metadata": {
    "collapsed": true
   },
   "outputs": [],
   "source": [
    "brand_nodes = pd.DataFrame(network['nodes'])"
   ]
  },
  {
   "cell_type": "code",
   "execution_count": 10,
   "metadata": {
    "collapsed": true
   },
   "outputs": [],
   "source": [
    "brand_links = pd.DataFrame(network['links'])"
   ]
  },
  {
   "cell_type": "code",
   "execution_count": null,
   "metadata": {
    "collapsed": false
   },
   "outputs": [],
   "source": [
    "min(brand_links['jaccard'])"
   ]
  },
  {
   "cell_type": "code",
   "execution_count": null,
   "metadata": {
    "collapsed": false
   },
   "outputs": [],
   "source": [
    "max(brand_links['jaccard'])"
   ]
  },
  {
   "cell_type": "code",
   "execution_count": 29,
   "metadata": {
    "collapsed": false
   },
   "outputs": [],
   "source": [
    "brand_edges = brand_links[brand_links['source']<brand_links['target']]"
   ]
  },
  {
   "cell_type": "code",
   "execution_count": 38,
   "metadata": {
    "collapsed": false
   },
   "outputs": [],
   "source": [
    "import igraph"
   ]
  },
  {
   "cell_type": "code",
   "execution_count": 63,
   "metadata": {
    "collapsed": false
   },
   "outputs": [],
   "source": [
    "brandG = igraph.Graph(brand_edges[['source','target']].values.tolist())"
   ]
  },
  {
   "cell_type": "code",
   "execution_count": 64,
   "metadata": {
    "collapsed": false
   },
   "outputs": [],
   "source": [
    "brandG.es['weight'] = brand_edges[['jaccard']].values.flatten().tolist()"
   ]
  },
  {
   "cell_type": "code",
   "execution_count": 65,
   "metadata": {
    "collapsed": false
   },
   "outputs": [],
   "source": [
    "brandG = brandG.as_undirected()"
   ]
  },
  {
   "cell_type": "code",
   "execution_count": 75,
   "metadata": {
    "collapsed": false
   },
   "outputs": [],
   "source": [
    "brandG_dendogram = brandG.community_fastgreedy(weights='weight')"
   ]
  },
  {
   "cell_type": "code",
   "execution_count": 76,
   "metadata": {
    "collapsed": false
   },
   "outputs": [],
   "source": [
    "brandG_clusters = brandG_dendogram.as_clustering(3)"
   ]
  },
  {
   "cell_type": "code",
   "execution_count": 77,
   "metadata": {
    "collapsed": false
   },
   "outputs": [
    {
     "data": {
      "text/plain": [
       "0.113630423556076"
      ]
     },
     "execution_count": 77,
     "metadata": {},
     "output_type": "execute_result"
    }
   ],
   "source": [
    "brandG_clusters.q"
   ]
  },
  {
   "cell_type": "code",
   "execution_count": 79,
   "metadata": {
    "collapsed": false
   },
   "outputs": [],
   "source": [
    "subG1 = brandG_clusters.subgraph(0)"
   ]
  },
  {
   "cell_type": "code",
   "execution_count": 82,
   "metadata": {
    "collapsed": false
   },
   "outputs": [
    {
     "ename": "AttributeError",
     "evalue": "'Graph' object has no attribute 'get_nodes'",
     "output_type": "error",
     "traceback": [
      "\u001b[0;31m---------------------------------------------------------------------------\u001b[0m",
      "\u001b[0;31mAttributeError\u001b[0m                            Traceback (most recent call last)",
      "\u001b[0;32m<ipython-input-82-79b35d8cdd12>\u001b[0m in \u001b[0;36m<module>\u001b[0;34m()\u001b[0m\n\u001b[0;32m----> 1\u001b[0;31m \u001b[0msubG1\u001b[0m\u001b[0;34m.\u001b[0m\u001b[0mget_nodes\u001b[0m\u001b[0;34m(\u001b[0m\u001b[0;34m)\u001b[0m\u001b[0;34m\u001b[0m\u001b[0m\n\u001b[0m",
      "\u001b[0;31mAttributeError\u001b[0m: 'Graph' object has no attribute 'get_nodes'"
     ]
    }
   ],
   "source": [
    "subG1.get_nodes()"
   ]
  },
  {
   "cell_type": "code",
   "execution_count": null,
   "metadata": {
    "collapsed": true
   },
   "outputs": [],
   "source": []
  }
 ],
 "metadata": {
  "kernelspec": {
   "display_name": "Python 2",
   "language": "python",
   "name": "python2"
  },
  "language_info": {
   "codemirror_mode": {
    "name": "ipython",
    "version": 2
   },
   "file_extension": ".py",
   "mimetype": "text/x-python",
   "name": "python",
   "nbconvert_exporter": "python",
   "pygments_lexer": "ipython2",
   "version": "2.7.6"
  }
 },
 "nbformat": 4,
 "nbformat_minor": 0
}
