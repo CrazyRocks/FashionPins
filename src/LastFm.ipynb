{
 "metadata": {
  "name": "LastFm"
 },
 "nbformat": 3,
 "nbformat_minor": 0,
 "worksheets": [
  {
   "cells": [
    {
     "cell_type": "code",
     "collapsed": false,
     "input": [
      "import pylast\n",
      "\n",
      "API_KEY = '8b2fa4cb683e168f66f47adcc708ad22'\n",
      "API_SECRET = '96f5ba11b4313fca6a34b65bba5c5843'\n",
      "username = 'culturalcluster'\n",
      "password_hash = pylast.md5(\"W1nter0zturk\")\n",
      "\n",
      "network = pylast.LastFMNetwork(api_key = API_KEY, api_secret =\n",
      "    API_SECRET, username = username, password_hash = password_hash)"
     ],
     "language": "python",
     "metadata": {},
     "outputs": [],
     "prompt_number": 1
    },
    {
     "cell_type": "code",
     "collapsed": false,
     "input": [
      "artist = network.get_artist(\"System of a Down\")"
     ],
     "language": "python",
     "metadata": {},
     "outputs": [],
     "prompt_number": 2
    },
    {
     "cell_type": "code",
     "collapsed": false,
     "input": [
      "shouts = artist.get_shouts()"
     ],
     "language": "python",
     "metadata": {},
     "outputs": [],
     "prompt_number": 7
    },
    {
     "cell_type": "code",
     "collapsed": false,
     "input": [
      "users = {}\n",
      "for shout in shouts:\n",
      "    if shout.author not in users:\n",
      "        users[str(shout.author)] = 1"
     ],
     "language": "python",
     "metadata": {},
     "outputs": [],
     "prompt_number": 14
    },
    {
     "cell_type": "code",
     "collapsed": false,
     "input": [
      "hyped = network.get_hyped_artists()"
     ],
     "language": "python",
     "metadata": {},
     "outputs": [
      {
       "ename": "AttributeError",
       "evalue": "'LastFMNetwork' object has no attribute 'get_hyped_artists'",
       "output_type": "pyerr",
       "traceback": [
        "\u001b[0;31m---------------------------------------------------------------------------\u001b[0m\n\u001b[0;31mAttributeError\u001b[0m                            Traceback (most recent call last)",
        "\u001b[0;32m<ipython-input-28-b121b61a8f27>\u001b[0m in \u001b[0;36m<module>\u001b[0;34m()\u001b[0m\n\u001b[0;32m----> 1\u001b[0;31m \u001b[0mhyped\u001b[0m \u001b[0;34m=\u001b[0m \u001b[0mnetwork\u001b[0m\u001b[0;34m.\u001b[0m\u001b[0mget_hyped_artists\u001b[0m\u001b[0;34m(\u001b[0m\u001b[0;34m)\u001b[0m\u001b[0;34m\u001b[0m\u001b[0m\n\u001b[0m",
        "\u001b[0;31mAttributeError\u001b[0m: 'LastFMNetwork' object has no attribute 'get_hyped_artists'"
       ]
      }
     ],
     "prompt_number": 28
    },
    {
     "cell_type": "code",
     "collapsed": false,
     "input": [
      "winteram = network.get_user('winteram')"
     ],
     "language": "python",
     "metadata": {},
     "outputs": [],
     "prompt_number": 22
    },
    {
     "cell_type": "code",
     "collapsed": false,
     "input": [
      "print winteram.get_country()"
     ],
     "language": "python",
     "metadata": {},
     "outputs": [
      {
       "ename": "AttributeError",
       "evalue": "'NoneType' object has no attribute 'encode'",
       "output_type": "pyerr",
       "traceback": [
        "\u001b[0;31m---------------------------------------------------------------------------\u001b[0m\n\u001b[0;31mAttributeError\u001b[0m                            Traceback (most recent call last)",
        "\u001b[0;32m<ipython-input-27-21dee1743fa3>\u001b[0m in \u001b[0;36m<module>\u001b[0;34m()\u001b[0m\n\u001b[0;32m----> 1\u001b[0;31m \u001b[0;32mprint\u001b[0m \u001b[0mwinteram\u001b[0m\u001b[0;34m.\u001b[0m\u001b[0mget_country\u001b[0m\u001b[0;34m(\u001b[0m\u001b[0;34m)\u001b[0m\u001b[0;34m\u001b[0m\u001b[0m\n\u001b[0m",
        "\u001b[0;32m/Library/Python/2.7/site-packages/pylast-0.5.11-py2.7.egg/pylast.pyc\u001b[0m in \u001b[0;36mr\u001b[0;34m(*args)\u001b[0m\n\u001b[1;32m    942\u001b[0m \u001b[0;32mdef\u001b[0m \u001b[0m_string_output\u001b[0m\u001b[0;34m(\u001b[0m\u001b[0mfunct\u001b[0m\u001b[0;34m)\u001b[0m\u001b[0;34m:\u001b[0m\u001b[0;34m\u001b[0m\u001b[0m\n\u001b[1;32m    943\u001b[0m     \u001b[0;32mdef\u001b[0m \u001b[0mr\u001b[0m\u001b[0;34m(\u001b[0m\u001b[0;34m*\u001b[0m\u001b[0margs\u001b[0m\u001b[0;34m)\u001b[0m\u001b[0;34m:\u001b[0m\u001b[0;34m\u001b[0m\u001b[0m\n\u001b[0;32m--> 944\u001b[0;31m         \u001b[0;32mreturn\u001b[0m \u001b[0m_string\u001b[0m\u001b[0;34m(\u001b[0m\u001b[0mfunct\u001b[0m\u001b[0;34m(\u001b[0m\u001b[0;34m*\u001b[0m\u001b[0margs\u001b[0m\u001b[0;34m)\u001b[0m\u001b[0;34m)\u001b[0m\u001b[0;34m\u001b[0m\u001b[0m\n\u001b[0m\u001b[1;32m    945\u001b[0m \u001b[0;34m\u001b[0m\u001b[0m\n\u001b[1;32m    946\u001b[0m     \u001b[0;32mreturn\u001b[0m \u001b[0mr\u001b[0m\u001b[0;34m\u001b[0m\u001b[0m\n",
        "\u001b[0;32m/Library/Python/2.7/site-packages/pylast-0.5.11-py2.7.egg/pylast.pyc\u001b[0m in \u001b[0;36m_string\u001b[0;34m(text)\u001b[0m\n\u001b[1;32m   3495\u001b[0m             \u001b[0;32mreturn\u001b[0m \u001b[0mstr\u001b[0m\u001b[0;34m(\u001b[0m\u001b[0mtext\u001b[0m\u001b[0;34m)\u001b[0m\u001b[0;34m\u001b[0m\u001b[0m\n\u001b[1;32m   3496\u001b[0m \u001b[0;34m\u001b[0m\u001b[0m\n\u001b[0;32m-> 3497\u001b[0;31m         \u001b[0;32mreturn\u001b[0m \u001b[0mtext\u001b[0m\u001b[0;34m.\u001b[0m\u001b[0mencode\u001b[0m\u001b[0;34m(\u001b[0m\u001b[0;34m\"utf-8\"\u001b[0m\u001b[0;34m)\u001b[0m\u001b[0;34m\u001b[0m\u001b[0m\n\u001b[0m\u001b[1;32m   3498\u001b[0m \u001b[0;34m\u001b[0m\u001b[0m\n\u001b[1;32m   3499\u001b[0m \u001b[0;32mdef\u001b[0m \u001b[0m_collect_nodes\u001b[0m\u001b[0;34m(\u001b[0m\u001b[0mlimit\u001b[0m\u001b[0;34m,\u001b[0m \u001b[0msender\u001b[0m\u001b[0;34m,\u001b[0m \u001b[0mmethod_name\u001b[0m\u001b[0;34m,\u001b[0m \u001b[0mcacheable\u001b[0m\u001b[0;34m,\u001b[0m \u001b[0mparams\u001b[0m\u001b[0;34m=\u001b[0m\u001b[0mNone\u001b[0m\u001b[0;34m)\u001b[0m\u001b[0;34m:\u001b[0m\u001b[0;34m\u001b[0m\u001b[0m\n",
        "\u001b[0;31mAttributeError\u001b[0m: 'NoneType' object has no attribute 'encode'"
       ]
      }
     ],
     "prompt_number": 27
    },
    {
     "cell_type": "code",
     "collapsed": false,
     "input": [
      "import urllib2\n",
      "import json"
     ],
     "language": "python",
     "metadata": {},
     "outputs": [],
     "prompt_number": 19
    },
    {
     "cell_type": "code",
     "collapsed": false,
     "input": [
      "toptracks_page = urllib2.urlopen(\"http://ws.audioscrobbler.com/2.0/?method=chart.gettoptracks&api_key=8b2fa4cb683e168f66f47adcc708ad22&format=json\")"
     ],
     "language": "python",
     "metadata": {},
     "outputs": [],
     "prompt_number": 21
    },
    {
     "cell_type": "code",
     "collapsed": false,
     "input": [
      "toptracks = json.loads(toptracks_page.read())\n"
     ],
     "language": "python",
     "metadata": {},
     "outputs": [],
     "prompt_number": 22
    },
    {
     "cell_type": "code",
     "collapsed": false,
     "input": [
      "for track in toptracks['tracks']['track']:\n",
      "    print \"%s by %s\" % (track['name'],track['artist']['name'])"
     ],
     "language": "python",
     "metadata": {},
     "outputs": [
      {
       "output_type": "stream",
       "stream": "stdout",
       "text": [
        "Ho Hey by The Lumineers\n",
        "Diamonds by Rihanna\n",
        "Radioactive by Imagine Dragons\n",
        "Little Talks by Of Monsters and Men\n",
        "Locked Out of Heaven by Bruno Mars\n",
        "Thrift Shop - feat. Wanz by Macklemore & Ryan Lewis\n",
        "Somebody That I Used to Know by Gotye\n",
        "Midnight City by M83\n",
        "It's Time by Imagine Dragons\n",
        "I Will Wait by Mumford & Sons\n",
        "Born to Die by Lana Del Rey\n",
        "Die Young by Ke$ha\n",
        "Don't You Worry Child (Radio Edit) [feat. John Martin] by Swedish House Mafia\n",
        "Scream & Shout by will.i.am\n",
        "Video Games by Lana Del Rey\n",
        "Sweet Nothing by Calvin Harris\n",
        "Some Nights by fun.\n",
        "Breezeblocks by Alt-J\n",
        "Blue Jeans by Lana Del Rey\n",
        "\uac15\ub0a8\uc2a4\ud0c0\uc77c by PSY\n",
        "Pumped Up Kicks by Foster the People\n",
        "Angels by The xx\n",
        "Call Me Maybe by Carly Rae Jepsen\n",
        "You & I by Local Natives\n",
        "We Are Never Ever Getting Back Together by Taylor Swift\n",
        "One More Night by Maroon 5\n",
        "Intro by The xx\n",
        "Lights by Ellie Goulding\n",
        "Heavy Feet by Local Natives\n",
        "Summertime Sadness by Lana Del Rey\n",
        "Paradise by Coldplay\n",
        "Madness by Muse\n",
        "Breakers by Local Natives\n",
        "Lonely Boy by The Black Keys\n",
        "Closer by Tegan and Sara\n",
        "Rolling in the Deep by Adele\n",
        "Crystalised by The xx\n",
        "Ceilings by Local Natives\n",
        "Sail by AWOLNATION\n",
        "Tessellate by Alt-J\n",
        "National Anthem by Lana Del Rey\n",
        "We Are Young (feat. Janelle Mon\u00e1e) by fun.\n",
        "Hall of Fame by The Script\n",
        "Skinny Love by Bon Iver\n",
        "Feels Like We Only Go Backwards by Tame Impala\n",
        "Thinkin Bout You by Frank Ocean\n",
        "The A Team by Ed Sheeran\n",
        "Too Close by Alex Clare\n",
        "Islands by The xx\n",
        "Shake It Out by Florence + the Machine\n"
       ]
      }
     ],
     "prompt_number": 31
    },
    {
     "cell_type": "code",
     "collapsed": false,
     "input": [],
     "language": "python",
     "metadata": {},
     "outputs": []
    }
   ],
   "metadata": {}
  }
 ]
}